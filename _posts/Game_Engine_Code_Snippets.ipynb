{
 "cells": [
  {
   "cell_type": "markdown",
   "id": "79d78ba0",
   "metadata": {},
   "source": [
    "# Game Engine Code Snippets by Topic"
   ]
  },
  {
   "cell_type": "markdown",
   "id": "51cc7d84",
   "metadata": {},
   "source": [
    "## Transition Screen"
   ]
  },
  {
   "cell_type": "markdown",
   "id": "c0028779",
   "metadata": {},
   "source": [
    "### Victory Screen Implementation"
   ]
  },
  {
   "cell_type": "code",
   "execution_count": null,
   "id": "cb06705a",
   "metadata": {
    "vscode": {
     "languageId": "javascript"
    }
   },
   "outputs": [],
   "source": [
    "// Enhanced method to handle victory\n",
    "handleVictory() {\n",
    "  console.log('handleVictory called with hitCount:', this.fireballHitCount);\n",
    "  \n",
    "  // Prevent multiple victory screens\n",
    "  if (this.victoryTriggered) {\n",
    "    console.log('Victory already triggered, ignoring');\n",
    "    return;\n",
    "  }\n",
    "  \n",
    "  this.victoryTriggered = true;\n",
    "  \n",
    "  // Remove any existing victory screen\n",
    "  const existingVictory = document.getElementById('victory-screen');\n",
    "  if (existingVictory) {\n",
    "    existingVictory.remove();\n",
    "  }\n",
    "  \n",
    "  this.showVictoryScreen();\n",
    "  \n",
    "  setTimeout(() => {\n",
    "    location.reload();\n",
    "  }, 3000);\n",
    "}\n",
    "\n",
    "// Enhanced method to display victory screen\n",
    "showVictoryScreen() {\n",
    "  console.log('Showing victory screen');\n",
    "  \n",
    "  const victoryDiv = document.createElement('div');\n",
    "  victoryDiv.id = 'victory-screen';\n",
    "  victoryDiv.style.cssText = \\`\n",
    "    position: fixed !important; \n",
    "    top: 0 !important; \n",
    "    left: 0 !important; \n",
    "    width: 100% !important; \n",
    "    height: 100% !important;\n",
    "    background-color: rgba(0, 50, 0, 0.95) !important; \n",
    "    display: flex !important; \n",
    "    flex-direction: column !important;\n",
    "    justify-content: center !important; \n",
    "    align-items: center !important; \n",
    "    z-index: 99999 !important;\n",
    "    color: #00FF00 !important; \n",
    "    font-size: 48px !important; \n",
    "    font-family: Arial, sans-serif !important;\n",
    "    text-shadow: 2px 2px 4px rgba(0, 0, 0, 0.8) !important;\n",
    "    pointer-events: auto !important;\n",
    "  \\`;\n",
    "  victoryDiv.innerHTML = \\`\n",
    "    <div>🎉 VICTORY! 🎉</div>\n",
    "    <div style=\"font-size: 32px; margin-top: 20px;\">You defeated the Ghast!</div>\n",
    "    <div style=\"font-size: 24px; margin-top: 10px;\">Fireballs Hit Back: \\${this.fireballHitCount}/2</div>\n",
    "    <div style=\"font-size: 18px; margin-top: 20px;\">Restarting in 3 seconds...</div>\n",
    "  \\`;\n",
    "  \n",
    "  document.body.appendChild(victoryDiv);\n",
    "  \n",
    "  setTimeout(() => {\n",
    "    victoryDiv.style.display = 'flex';\n",
    "  }, 10);\n",
    "  \n",
    "  console.log('Victory screen added to DOM');\n",
    "}"
   ]
  },
  {
   "cell_type": "markdown",
   "id": "4d795ee1",
   "metadata": {},
   "source": [
    "### Game Over Screen"
   ]
  },
  {
   "cell_type": "code",
   "execution_count": null,
   "id": "2e7692fe",
   "metadata": {
    "vscode": {
     "languageId": "javascript"
    }
   },
   "outputs": [],
   "source": [
    "handleGameOver: function() {\n",
    "  this.showGameOverScreen();\n",
    "  setTimeout(() => {\n",
    "    location.reload();\n",
    "  }, 3000);\n",
    "},\n",
    "\n",
    "showGameOverScreen: function() {\n",
    "  const gameOverDiv = document.createElement('div');\n",
    "  gameOverDiv.id = 'game-over-screen';\n",
    "  gameOverDiv.style.cssText = \\`\n",
    "    position: fixed; top: 0; left: 0; width: 100%; height: 100%;\n",
    "    background-color: rgba(0, 0, 0, 0.8); display: flex; flex-direction: column;\n",
    "    justify-content: center; align-items: center; z-index: 10000;\n",
    "    color: #FF0000; font-size: 48px; font-family: Arial, sans-serif;\n",
    "  \\`;\n",
    "  gameOverDiv.innerHTML = \\`\n",
    "    <div>GAME OVER</div>\n",
    "    <div style=\"font-size: 24px; margin-top: 20px;\">Restarting in 3 seconds...</div>\n",
    "  \\`;\n",
    "  document.body.appendChild(gameOverDiv);\n",
    "}"
   ]
  },
  {
   "cell_type": "markdown",
   "id": "f2f47a66",
   "metadata": {},
   "source": [
    "## Enemies"
   ]
  },
  {
   "cell_type": "markdown",
   "id": "cdb779e6",
   "metadata": {},
   "source": [
    "### Ghast Enemy Configuration"
   ]
  },
  {
   "cell_type": "code",
   "execution_count": null,
   "id": "c60b5909",
   "metadata": {
    "vscode": {
     "languageId": "javascript"
    }
   },
   "outputs": [],
   "source": [
    "const sprite_data_ghast = {\n",
    "  id: 'Ghast',\n",
    "  down: { row: 0, start: 0, columns: 4 },\n",
    "  greeting: \"ROOOOOAAAAAR! *shoots fireballs*\",\n",
    "  src: sprite_src_ghast,\n",
    "  SCALE_FACTOR: GHAST_SCALE_FACTOR,\n",
    "  ANIMATION_RATE: 100,\n",
    "  pixels: { width: 256, height: 256 },\n",
    "  INIT_POSITION: { x: width - 300, y: 100 },\n",
    "  orientation: { rows: 2, columns: 4 },\n",
    "  idle: { row: 0, start: 0, columns: 4 },\n",
    "  shooting: { row: 1, start: 0, columns: 4 },\n",
    "  hitbox: { widthPercentage: 0.8, heightPercentage: 0.8 },\n",
    "  health: 150,\n",
    "  fireballCooldown: 0,\n",
    "  fireballRate: 120,\n",
    "  isEnemy: true,\n",
    "  gameEnv: gameEnv,\n",
    "  lastFireballTime: 0,\n",
    "\n",
    "  reaction: function () {\n",
    "    this.health -= 30;\n",
    "    console.log('Ghast health:', this.health);\n",
    "    if (this.health <= 0) {\n",
    "      console.log('Ghast destroyed!');\n",
    "      if (this.parent && this.gameEnv && this.gameEnv.gameObjects) {\n",
    "        const index = this.gameEnv.gameObjects.indexOf(this.parent);\n",
    "        if (index > -1) {\n",
    "          this.gameEnv.gameObjects.splice(index, 1);\n",
    "        }\n",
    "      }\n",
    "      if (gameLevel) {\n",
    "        console.log('Calling handleVictory from ghast destruction');\n",
    "        gameLevel.handleVictory();\n",
    "      }\n",
    "    }\n",
    "  }\n",
    "};"
   ]
  }
 ],
 "metadata": {
  "language_info": {
   "name": "python"
  }
 },
 "nbformat": 4,
 "nbformat_minor": 5
}
