{
 "cells": [
  {
   "cell_type": "markdown",
   "id": "63e397df",
   "metadata": {},
   "source": [
    "# 🔥 Advanced Game Programming with HTML5 and JavaScript\n",
    "This notebook explores dynamic UI creation, event-driven controls, object-oriented projectile behavior, and particle effects using HTML5 canvas and JavaScript classes. It offers a different code structure but builds on the same concepts."
   ]
  },
  {
   "cell_type": "code",
   "execution_count": null,
   "id": "bd03815a",
   "metadata": {},
   "outputs": [],
   "source": [
    "// Setup dynamic level complete screen\n",
    "const levelCompleteScreen = document.createElement('section');\n",
    "levelCompleteScreen.id = 'level-complete';\n",
    "Object.assign(levelCompleteScreen.style, {\n",
    "  position: 'fixed',\n",
    "  top: '0',\n",
    "  left: '0',\n",
    "  width: '100%',\n",
    "  height: '100%',\n",
    "  background: 'rgba(30, 0, 60, 0.9)',\n",
    "  display: 'flex',\n",
    "  justifyContent: 'center',\n",
    "  alignItems: 'center',\n",
    "  color: '#fff',\n",
    "  fontSize: '2em',\n",
    "  zIndex: 1000\n",
    "});\n",
    "levelCompleteScreen.textContent = '🎉 Level Complete!';\n",
    "document.body.appendChild(levelCompleteScreen);"
   ]
  },
  {
   "cell_type": "code",
   "execution_count": null,
   "id": "4f45dd85",
   "metadata": {},
   "outputs": [],
   "source": [
    "// Validate critical game environment objects\n",
    "if (!this.gameEnv || !Array.isArray(this.gameEnv.entities)) {\n",
    "  console.warn('Missing or invalid game environment/entities');\n",
    "  return;\n",
    "}"
   ]
  },
  {
   "cell_type": "code",
   "execution_count": null,
   "id": "bc31ddc7",
   "metadata": {},
   "outputs": [],
   "source": [
    "// Add event listener for jump and attack actions\n",
    "document.addEventListener('keydown', function(event) {\n",
    "  if (event.code === 'KeyW' && player.jump) {\n",
    "    event.preventDefault();\n",
    "    player.jump();\n",
    "  }\n",
    "  if (event.code === 'KeyK' && player.attack) {\n",
    "    event.preventDefault();\n",
    "    player.attack();\n",
    "  }\n",
    "});"
   ]
  },
  {
   "cell_type": "code",
   "execution_count": null,
   "id": "b3117636",
   "metadata": {},
   "outputs": [],
   "source": [
    "// Define fire orb class with smooth tracking\n",
    "class FireOrb {\n",
    "  constructor(x, y, target, speed = 4, curve = 0.05) {\n",
    "    this.pos = { x, y };\n",
    "    this.velocity = { x: 0, y: 0 };\n",
    "    this.target = target;\n",
    "    this.speed = speed;\n",
    "    this.curve = curve;\n",
    "    this.active = true;\n",
    "  }\n",
    "\n",
    "  update() {\n",
    "    const dx = this.target.pos.x - this.pos.x;\n",
    "    const dy = this.target.pos.y - this.pos.y;\n",
    "    const angleToTarget = Math.atan2(dy, dx);\n",
    "    this.velocity.x += Math.cos(angleToTarget) * this.curve;\n",
    "    this.velocity.y += Math.sin(angleToTarget) * this.curve;\n",
    "    const mag = Math.hypot(this.velocity.x, this.velocity.y);\n",
    "    this.velocity.x = (this.velocity.x / mag) * this.speed;\n",
    "    this.velocity.y = (this.velocity.y / mag) * this.speed;\n",
    "\n",
    "    this.pos.x += this.velocity.x;\n",
    "    this.pos.y += this.velocity.y;\n",
    "  }\n",
    "}"
   ]
  },
  {
   "cell_type": "code",
   "execution_count": null,
   "id": "2327bf67",
   "metadata": {},
   "outputs": [],
   "source": [
    "// Trail effect for FireOrb\n",
    "FireOrb.prototype.emitParticles = function(particleArray) {\n",
    "  for (let i = 0; i < 3; i++) {\n",
    "    particleArray.push({\n",
    "      x: this.pos.x + (Math.random() - 0.5) * 8,\n",
    "      y: this.pos.y + (Math.random() - 0.5) * 8,\n",
    "      vx: (Math.random() - 0.5) * 1.5,\n",
    "      vy: (Math.random() - 0.5) * 1.5,\n",
    "      life: 1,\n",
    "      decay: 0.04 + Math.random() * 0.03\n",
    "    });\n",
    "  }\n",
    "};"
   ]
  }
 ],
 "metadata": {},
 "nbformat": 4,
 "nbformat_minor": 5
}